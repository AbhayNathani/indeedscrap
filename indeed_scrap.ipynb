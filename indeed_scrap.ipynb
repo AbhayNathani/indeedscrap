{
 "cells": [
  {
   "cell_type": "markdown",
   "id": "0be4d901",
   "metadata": {},
   "source": [
    "<font color=blue size=6 style='bold'> Indeed Job Data Scrapping Into CSV </font>"
   ]
  },
  {
   "cell_type": "markdown",
   "id": "15af22ec",
   "metadata": {},
   "source": [
    "## Configure Search"
   ]
  },
  {
   "cell_type": "code",
   "execution_count": 1,
   "id": "b60197b1",
   "metadata": {},
   "outputs": [],
   "source": [
    "\n",
    "ADVANCE_SEARCH = True  # For Advance Search\n",
    "if ADVANCE_SEARCH:\n",
    "    adv_url = \"https://in.indeed.com/jobs?q=python%20django%20%E2%82%B93%2C50%2C000&l=ahmedabad%2C%20gujarat&vjk=0c280f5c7a18a0b8\"\n",
    "else:\n",
    "    what_job = 'Python Django'    # For Basic Search\n",
    "    where = 'ahmedabad, gujarat' \n",
    "\n",
    "    \n",
    "Filename = 'Indeed_Job_Data2.csv'\n",
    "save_data = True\n",
    "\n"
   ]
  },
  {
   "cell_type": "code",
   "execution_count": 2,
   "id": "017178a2",
   "metadata": {},
   "outputs": [],
   "source": [
    "if ADVANCE_SEARCH:\n",
    "    \n",
    "\n",
    "    i = adv_url.find(\"vjk=\")\n",
    "    adv_url = adv_url[:i-1]\n",
    "    if \"&start\" in adv_url:\n",
    "        adv_url=adv_url[:-2]+\"{}\"\n",
    "    else:\n",
    "        adv_url+=\"&start={}\"\n",
    "\n",
    "\n",
    "    def get_adv_url(adv_url, page):\n",
    "        url = adv_url.format((page-1)*10)\n",
    "        return url\n"
   ]
  },
  {
   "cell_type": "code",
   "execution_count": 3,
   "id": "d7bf61c0",
   "metadata": {},
   "outputs": [],
   "source": [
    "import csv \n",
    "from datetime import datetime\n",
    "import requests\n",
    "from bs4 import BeautifulSoup as bs\n",
    "import time \n",
    "from datetime import date\n",
    "today = date.today()\n"
   ]
  },
  {
   "cell_type": "markdown",
   "id": "3fe047c0",
   "metadata": {},
   "source": [
    "## Formats URL For Each Page\n",
    "####  func get_url\n",
    "#### input =  position/post of job , location of company, page number to access\n",
    "#### returns url - for the required job, location and page number"
   ]
  },
  {
   "cell_type": "code",
   "execution_count": 4,
   "id": "c3995641",
   "metadata": {},
   "outputs": [],
   "source": [
    "def get_url(position, location, page):\n",
    "    \"Generate Url From Position and Location Arguments\"\n",
    "    position=position.replace(\" \",\"%20\")\n",
    "    position=position.replace(\",\",\"%2C\")\n",
    "    location=location.replace(\" \",\"%20\")\n",
    "    location=location.replace(\",\",\"%2C\")\n",
    "    location,position = location.lower(),position.lower()\n",
    "    template = \"https://in.indeed.com/jobs?q={}&l={}&start={}\"\n",
    "    url = template.format(position, location, (page-1)*10)\n",
    "    return url        "
   ]
  },
  {
   "cell_type": "markdown",
   "id": "d4836fa6",
   "metadata": {},
   "source": [
    "## Returns details of required card\n",
    "####  func get_record \n",
    "#### Input = card \n",
    "#### return record = (job_title,company_name,company_location,salary,summary,post_date,today,job_url)"
   ]
  },
  {
   "cell_type": "code",
   "execution_count": 5,
   "id": "3b0da198",
   "metadata": {},
   "outputs": [],
   "source": [
    "def get_record(card):\n",
    "    \n",
    "    atag = card.h2.a\n",
    "    atag_span = card.h2.a.span # Hierarchy of tags H2->a-> span-class='title'\n",
    "    job_title = atag_span.get('title') # extracted from class='title' || atag.text can also work #TITLE\n",
    "    job_url = \"https://www.indeed.com\" + atag.get(\"href\") #Job_URL\n",
    "    company_name = card.find(\"span\",'companyName').text.strip() #Company Name\n",
    "    company_location = card.find(\"div\",'companyLocation').text.strip()\n",
    "    today = datetime.today().strftime(\"%y-%m-%d\")\n",
    "    summary = card.find(\"div\",'job-snippet').text.strip().replace(\"\\n\",' ') #Summary\n",
    "    post_date = card.find(\"span\",'date').text.replace(\"Employer\",\"Employer \").replace(\"Posted\",\"Posted \") # Posted before  \n",
    "    try:\n",
    "        salary = card.find(\"div\",'attribute_snippet').text #Salary_Range\n",
    "    except AttributeError:\n",
    "        salary = 'NA'\n",
    "    record = {'job_title':job_title,'company_name':company_name,\"company_location\":company_location,'salary':salary,'summary':summary,'post_date':post_date,'today':today,'job_url':job_url}\n",
    "    return record"
   ]
  },
  {
   "cell_type": "code",
   "execution_count": 6,
   "id": "f0b7ba49",
   "metadata": {},
   "outputs": [],
   "source": [
    "records = []\n",
    "def save_records(cards):\n",
    "    for card in cards:\n",
    "        record = get_record(card)\n",
    "        records.append(record)\n",
    "    "
   ]
  },
  {
   "cell_type": "markdown",
   "id": "6ef74842",
   "metadata": {},
   "source": [
    "## Itterates through each page and Checks if Page Exists"
   ]
  },
  {
   "cell_type": "code",
   "execution_count": 10,
   "id": "be03a4bb",
   "metadata": {},
   "outputs": [
    {
     "name": "stdout",
     "output_type": "stream",
     "text": [
      "https://in.indeed.com/jobs?q=python%20django%20%E2%82%B93%2C50%2C000&l=ahmedabad%2C%20gujarat&start=0\n",
      "https://in.indeed.com/jobs?q=python%20django%20%E2%82%B93%2C50%2C000&l=ahmedabad%2C%20gujarat&start=10\n",
      "https://in.indeed.com/jobs?q=python%20django%20%E2%82%B93%2C50%2C000&l=ahmedabad%2C%20gujarat&start=20\n",
      "https://in.indeed.com/jobs?q=python%20django%20%E2%82%B93%2C50%2C000&l=ahmedabad%2C%20gujarat&start=30\n",
      "https://in.indeed.com/jobs?q=python%20django%20%E2%82%B93%2C50%2C000&l=ahmedabad%2C%20gujarat&start=40\n",
      "https://in.indeed.com/jobs?q=python%20django%20%E2%82%B93%2C50%2C000&l=ahmedabad%2C%20gujarat&start=50\n",
      "https://in.indeed.com/jobs?q=python%20django%20%E2%82%B93%2C50%2C000&l=ahmedabad%2C%20gujarat&start=60\n",
      "Last Page Reached. Last Page is  6\n",
      "Total Jobs Obtained :  89\n",
      "Total Page Loaded : 6\n",
      "Total Time Taken : 33 s\n"
     ]
    }
   ],
   "source": [
    "records = []\n",
    "begin = time.time()  # Starts timer from here !!!\n",
    "i=0\n",
    "while True:\n",
    "    i+=1  \n",
    "    try:\n",
    "        if ADVANCE_SEARCH:\n",
    "            url = get_adv_url(adv_url, i)\n",
    "            print(url)\n",
    "        else:\n",
    "            url = get_url(what_job, where,i)\n",
    "        response = requests.get(url)\n",
    "        soup = bs(response.text, 'html.parser')\n",
    "        # Check if its a new page -> to check if page exist\n",
    "        page_number = int(soup.select('b[aria-current]')[0].text)\n",
    "        if True:         # To print Page number, Itteration number and time elapsed\n",
    "            now = time.time()\n",
    "            print('Page Number, Itteration :', page_number,i,' Time Taken Till Now:',int(now-begin),'s')\n",
    "        if page_number != i:\n",
    "            print(\"Last Page Reached. Last Page is \",i-1 )\n",
    "            break\n",
    "        # If page exists get job cards\n",
    "        cards = soup.find_all('div','job_seen_beacon')\n",
    "        # calling the function to Save the Details of the job cards\n",
    "        save_records(cards)\n",
    "        if False:     # To show number of records fetched till this page\n",
    "            print('Records Fetched Till Now:',len(records))\n",
    "        \n",
    "    except:\n",
    "        break\n",
    "time.sleep(1)\n",
    "now = time.time()\n",
    "print(\"Total Jobs Obtained : \",len(records))\n",
    "print(\"Total Page Loaded :\",i-1)\n",
    "print(\"Total Time Taken :\", int(now-begin),'s')"
   ]
  },
  {
   "cell_type": "markdown",
   "id": "e2941325",
   "metadata": {},
   "source": [
    "## Save the Fetched Data into CSV"
   ]
  },
  {
   "cell_type": "code",
   "execution_count": 8,
   "id": "10ea47d9",
   "metadata": {},
   "outputs": [],
   "source": [
    "fields = list(records[0].keys()) "
   ]
  },
  {
   "cell_type": "code",
   "execution_count": 9,
   "id": "09f27dc6",
   "metadata": {},
   "outputs": [],
   "source": [
    "if save_data:\n",
    "    import csv # Don't Forget To Change The File Name\n",
    "    with open(Filename, 'w') as csvfile:\n",
    "        writer = csv.DictWriter(csvfile, fieldnames = fields)\n",
    "        writer.writeheader()\n",
    "        writer.writerows(records)"
   ]
  },
  {
   "cell_type": "code",
   "execution_count": null,
   "id": "274daeda",
   "metadata": {},
   "outputs": [],
   "source": []
  }
 ],
 "metadata": {
  "kernelspec": {
   "display_name": "Python 3 (ipykernel)",
   "language": "python",
   "name": "python3"
  },
  "language_info": {
   "codemirror_mode": {
    "name": "ipython",
    "version": 3
   },
   "file_extension": ".py",
   "mimetype": "text/x-python",
   "name": "python",
   "nbconvert_exporter": "python",
   "pygments_lexer": "ipython3",
   "version": "3.9.7"
  }
 },
 "nbformat": 4,
 "nbformat_minor": 5
}
